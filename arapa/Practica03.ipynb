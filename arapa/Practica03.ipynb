{
 "cells": [
  {
   "cell_type": "markdown",
   "id": "648cfc33-e273-4b13-9d48-27b60e35789d",
   "metadata": {},
   "source": [
    "# Desarrollo\n",
    "Esta parte contiene la explicación y desarrollo de los conceptos de listas y estructuras condicionales en Python.\n"
   ]
  },
  {
   "cell_type": "markdown",
   "id": "f4bd23e0-9325-4cee-831a-14f5b84c58e4",
   "metadata": {},
   "source": [
    "## Introducción a Listas\n",
    "Una lista en Python es una colección ordenada de elementos que pueden ser de distintos tipos. Aquí aprenderemos a crear, modificar y manejar listas.\n"
   ]
  },
  {
   "cell_type": "code",
   "execution_count": null,
   "id": "8b74b5da-ed43-497e-88f5-155bff4635ed",
   "metadata": {},
   "outputs": [],
   "source": [
    "# Crear una lista y acceder a elementos\n",
    "mi_lista = [1, 2, 3, \"hola\"]\n",
    "print(\"Lista original:\", mi_lista)\n",
    "\n",
    "# Acceder al primer y último elemento\n",
    "print(\"Primer elemento:\", mi_lista[0])\n",
    "print(\"Último elemento:\", mi_lista[-1])\n",
    "\n",
    "# Modificar un elemento\n",
    "mi_lista[3] = \"mundo\"\n",
    "print(\"Lista modificada:\", mi_lista)\n"
   ]
  },
  {
   "cell_type": "markdown",
   "id": "a5487ec2-92ff-4e2d-917b-4401f728c227",
   "metadata": {},
   "source": [
    "## Estructuras Condicionales\n",
    "Las estructuras condicionales en Python (`if`, `elif`, `else`) permiten ejecutar diferentes códigos según algunas condiciones.\n"
   ]
  },
  {
   "cell_type": "code",
   "execution_count": null,
   "id": "ba40cc66-ee66-48c1-9205-4c67307e6624",
   "metadata": {},
   "outputs": [],
   "source": [
    "# Ejemplo de condicional simple\n",
    "x = 5\n",
    "if x > 0:\n",
    "    print(\"x es positivo\")\n",
    "elif x == 0:\n",
    "    print(\"x es cero\")\n",
    "else:\n",
    "    print(\"x es negativo\")\n"
   ]
  },
  {
   "cell_type": "markdown",
   "id": "5a27ab3e-f1b9-4f1d-b172-09850df5138c",
   "metadata": {},
   "source": [
    "### Ejemplo: Operaciones en Listas\n",
    "En este ejemplo, realizaremos algunas operaciones comunes en listas, como agregar, eliminar y ordenar elementos.\n"
   ]
  },
  {
   "cell_type": "code",
   "execution_count": null,
   "id": "14955bde-e5e1-4f36-838e-2a12b354ac6a",
   "metadata": {},
   "outputs": [],
   "source": [
    "# Crear una lista y realizar operaciones\n",
    "numeros = [10, 20, 30, 40, 50]\n",
    "\n",
    "# Agregar un elemento\n",
    "numeros.append(60)\n",
    "print(\"Lista después de agregar un elemento:\", numeros)\n",
    "\n",
    "# Eliminar un elemento\n",
    "numeros.remove(30)\n",
    "print(\"Lista después de eliminar un elemento:\", numeros)\n",
    "\n",
    "# Ordenar la lista\n",
    "numeros.sort()\n",
    "print(\"Lista ordenada:\", numeros)\n"
   ]
  },
  {
   "cell_type": "markdown",
   "id": "de976794-a238-4fe0-830d-a71a4ec9201f",
   "metadata": {},
   "source": [
    "### Ejemplo: Estructura Condicional para Verificar Paridad\n",
    "Este ejemplo utiliza condicionales para verificar si un número es par o impar.\n"
   ]
  },
  {
   "cell_type": "code",
   "execution_count": null,
   "id": "84707980-734f-45e7-9eab-32f87c4d4dbb",
   "metadata": {},
   "outputs": [],
   "source": [
    "# Verificar si un número es par o impar\n",
    "n = int(input(\"Ingrese un número: \"))\n",
    "if n % 2 == 0:\n",
    "    print(\"El número es par\")\n",
    "else:\n",
    "    print(\"El número es impar\")\n"
   ]
  },
  {
   "cell_type": "markdown",
   "id": "24ea0719-0ed0-4732-81ae-ae5c08833c7f",
   "metadata": {},
   "source": [
    "### Ejercicios"
   ]
  },
  {
   "cell_type": "code",
   "execution_count": null,
   "id": "6cb0853e-b39f-4197-a1c9-bee58d88cbc1",
   "metadata": {},
   "outputs": [],
   "source": [
    "# Programa para verificar si un número es positivo, negativo o cero\n",
    "def verificar_numero():\n",
    "    x = int(input(\"Ingrese un número: \"))\n",
    "    if x > 0:\n",
    "        print(\"Es positivo\")\n",
    "    elif x < 0:\n",
    "        print(\"Es negativo\")\n",
    "    else:\n",
    "        print(\"Es cero\")\n",
    "\n",
    "verificar_numero()\n"
   ]
  },
  {
   "cell_type": "code",
   "execution_count": 4,
   "id": "2ee12c1d-c025-4ebe-9c92-0c776c7b56b2",
   "metadata": {},
   "outputs": [
    {
     "name": "stdin",
     "output_type": "stream",
     "text": [
      "Ingrese el radio del círculo:  10\n"
     ]
    },
    {
     "name": "stdout",
     "output_type": "stream",
     "text": [
      "Seleccione una opción:\n",
      "a) Calcular el diámetro\n",
      "b) Calcular el perímetro\n",
      "c) Calcular el área\n"
     ]
    },
    {
     "name": "stdin",
     "output_type": "stream",
     "text": [
      "Elija una opción (a, b, o c):  a\n"
     ]
    },
    {
     "name": "stdout",
     "output_type": "stream",
     "text": [
      "El diámetro es: 20.0\n"
     ]
    }
   ],
   "source": [
    "from math import pi\n",
    "\n",
    "def calcular_circulo():\n",
    "    radio = float(input(\"Ingrese el radio del círculo: \"))\n",
    "    print(\"Seleccione una opción:\")\n",
    "    print(\"a) Calcular el diámetro\")\n",
    "    print(\"b) Calcular el perímetro\")\n",
    "    print(\"c) Calcular el área\")\n",
    "    \n",
    "    opcion = input(\"Elija una opción (a, b, o c): \")\n",
    "    if opcion == \"a\":\n",
    "        print(\"El diámetro es:\", 2 * radio)\n",
    "    elif opcion == \"b\":\n",
    "        print(\"El perímetro es:\", 2 * pi * radio)\n",
    "    elif opcion == \"c\":\n",
    "        print(\"El área es:\", pi * radio ** 2)\n",
    "    else:\n",
    "        print(\"Opción no válida.\")\n",
    "\n",
    "calcular_circulo()\n"
   ]
  },
  {
   "cell_type": "code",
   "execution_count": null,
   "id": "c1956da7-850a-45e8-8aca-3cc9502289ae",
   "metadata": {},
   "outputs": [],
   "source": []
  }
 ],
 "metadata": {
  "kernelspec": {
   "display_name": "Python 3 (ipykernel)",
   "language": "python",
   "name": "python3"
  },
  "language_info": {
   "codemirror_mode": {
    "name": "ipython",
    "version": 3
   },
   "file_extension": ".py",
   "mimetype": "text/x-python",
   "name": "python",
   "nbconvert_exporter": "python",
   "pygments_lexer": "ipython3",
   "version": "3.12.4"
  }
 },
 "nbformat": 4,
 "nbformat_minor": 5
}
